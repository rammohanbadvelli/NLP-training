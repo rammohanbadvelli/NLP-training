{
  "nbformat": 4,
  "nbformat_minor": 0,
  "metadata": {
    "colab": {
      "provenance": [],
      "authorship_tag": "ABX9TyNLUuaYR7c6RW9V8dmnvdKc",
      "include_colab_link": true
    },
    "kernelspec": {
      "name": "python3",
      "display_name": "Python 3"
    },
    "language_info": {
      "name": "python"
    }
  },
  "cells": [
    {
      "cell_type": "markdown",
      "metadata": {
        "id": "view-in-github",
        "colab_type": "text"
      },
      "source": [
        "<a href=\"https://colab.research.google.com/github/rammohanbadvelli/NLP-training/blob/main/NLP6_POS.ipynb\" target=\"_parent\"><img src=\"https://colab.research.google.com/assets/colab-badge.svg\" alt=\"Open In Colab\"/></a>"
      ]
    },
    {
      "cell_type": "code",
      "execution_count": 1,
      "metadata": {
        "id": "wS0roOwy6Oeb"
      },
      "outputs": [],
      "source": [
        "import spacy\n",
        "nlp = spacy.load(\"en_core_web_sm\")"
      ]
    },
    {
      "cell_type": "code",
      "source": [
        "doc =  nlp(\"Elon flew to mars yesterday. He carried biryani masala with him.\")\n",
        "for tokens in doc:\n",
        "  print(tokens)"
      ],
      "metadata": {
        "colab": {
          "base_uri": "https://localhost:8080/"
        },
        "id": "AG5qF6Ue6Pew",
        "outputId": "55a3c6cb-1ac8-4d85-c022-efb65cb19665"
      },
      "execution_count": 2,
      "outputs": [
        {
          "output_type": "stream",
          "name": "stdout",
          "text": [
            "Elon\n",
            "flew\n",
            "to\n",
            "mars\n",
            "yesterday\n",
            ".\n",
            "He\n",
            "carried\n",
            "biryani\n",
            "masala\n",
            "with\n",
            "him\n",
            ".\n"
          ]
        }
      ]
    },
    {
      "cell_type": "code",
      "source": [
        "for tokens in doc:\n",
        "  print(tokens,\" |\",tokens.pos_, \"|\",spacy.explain(tokens.pos_))"
      ],
      "metadata": {
        "colab": {
          "base_uri": "https://localhost:8080/"
        },
        "id": "ZztGlYsu6mOS",
        "outputId": "cc168540-e792-48cc-9109-df9ac27b354a"
      },
      "execution_count": 6,
      "outputs": [
        {
          "output_type": "stream",
          "name": "stdout",
          "text": [
            "Elon  | PROPN | proper noun\n",
            "flew  | VERB | verb\n",
            "to  | ADP | adposition\n",
            "mars  | NOUN | noun\n",
            "yesterday  | NOUN | noun\n",
            ".  | PUNCT | punctuation\n",
            "He  | PRON | pronoun\n",
            "carried  | VERB | verb\n",
            "biryani  | ADJ | adjective\n",
            "masala  | NOUN | noun\n",
            "with  | ADP | adposition\n",
            "him  | PRON | pronoun\n",
            ".  | PUNCT | punctuation\n"
          ]
        }
      ]
    },
    {
      "cell_type": "code",
      "source": [
        "doc =  nlp(\"wow ! dr.strange made 265 million $ on the very first day\")\n",
        "for tokens in doc:\n",
        "  print(tokens,\" |\",tokens.pos_, \"|\",spacy.explain(tokens.pos_), \"|\" , tokens.tag_, \"|\", spacy.explain(tokens.tag_))"
      ],
      "metadata": {
        "colab": {
          "base_uri": "https://localhost:8080/"
        },
        "id": "qJ4PGPD16tje",
        "outputId": "de2650fc-172d-4e98-ddfa-70e3fe887608"
      },
      "execution_count": 7,
      "outputs": [
        {
          "output_type": "stream",
          "name": "stdout",
          "text": [
            "wow  | INTJ | interjection | UH | interjection\n",
            "!  | PUNCT | punctuation | . | punctuation mark, sentence closer\n",
            "dr.strange  | PROPN | proper noun | NNP | noun, proper singular\n",
            "made  | VERB | verb | VBD | verb, past tense\n",
            "265  | NUM | numeral | CD | cardinal number\n",
            "million  | NUM | numeral | CD | cardinal number\n",
            "$  | NUM | numeral | CD | cardinal number\n",
            "on  | ADP | adposition | IN | conjunction, subordinating or preposition\n",
            "the  | DET | determiner | DT | determiner\n",
            "very  | ADV | adverb | RB | adverb\n",
            "first  | ADJ | adjective | JJ | adjective (English), other noun-modifier (Chinese)\n",
            "day  | NOUN | noun | NN | noun, singular or mass\n"
          ]
        }
      ]
    },
    {
      "cell_type": "markdown",
      "source": [
        "# **Removing the unneccsary data**"
      ],
      "metadata": {
        "id": "c7x78V0L8Jlf"
      }
    },
    {
      "cell_type": "code",
      "source": [
        "text = \"Microsoft Corporation is an American multinational technology corporation headquartered in Redmond, Washington. Microsoft's best-known software products are the Windows line of operating systems, the Microsoft Office suite, and the Internet Explorer and Edge web browsers. Its flagship hardware products are the Xbox video game consoles and the Microsoft Surface lineup of touchscreen personal computers. Microsoft ranked No. 14 in the 2022 Fortune 500 rankings of the largest United States corporations by total revenue;[2] it was the world's largest software maker by revenue as of 2022. It is considered as one of the Big Five American information technology companies, alongside Alphabet (parent company of Google), Amazon, Apple, and Meta (formerly Facebook).\""
      ],
      "metadata": {
        "id": "66ap-Dmu7q9E"
      },
      "execution_count": 10,
      "outputs": []
    },
    {
      "cell_type": "code",
      "source": [
        "doc =  nlp(text)\n",
        "doc "
      ],
      "metadata": {
        "colab": {
          "base_uri": "https://localhost:8080/"
        },
        "id": "-9ZbXdVx8a2J",
        "outputId": "d3b7bb0a-a57f-4b21-bbbb-d8a6af00c378"
      },
      "execution_count": 12,
      "outputs": [
        {
          "output_type": "execute_result",
          "data": {
            "text/plain": [
              "Microsoft Corporation is an American multinational technology corporation headquartered in Redmond, Washington. Microsoft's best-known software products are the Windows line of operating systems, the Microsoft Office suite, and the Internet Explorer and Edge web browsers. Its flagship hardware products are the Xbox video game consoles and the Microsoft Surface lineup of touchscreen personal computers. Microsoft ranked No. 14 in the 2022 Fortune 500 rankings of the largest United States corporations by total revenue;[2] it was the world's largest software maker by revenue as of 2022. It is considered as one of the Big Five American information technology companies, alongside Alphabet (parent company of Google), Amazon, Apple, and Meta (formerly Facebook)."
            ]
          },
          "metadata": {},
          "execution_count": 12
        }
      ]
    },
    {
      "cell_type": "code",
      "source": [
        "for tokens in doc:\n",
        "  print(tokens,\" |\",tokens.pos_, \"|\",spacy.explain(tokens.pos_))"
      ],
      "metadata": {
        "colab": {
          "base_uri": "https://localhost:8080/"
        },
        "id": "UngsQkPr8qan",
        "outputId": "a8fc7416-35e4-4941-8204-8d67aeaa1853"
      },
      "execution_count": 13,
      "outputs": [
        {
          "output_type": "stream",
          "name": "stdout",
          "text": [
            "Microsoft  | PROPN | proper noun\n",
            "Corporation  | PROPN | proper noun\n",
            "is  | AUX | auxiliary\n",
            "an  | DET | determiner\n",
            "American  | ADJ | adjective\n",
            "multinational  | ADJ | adjective\n",
            "technology  | NOUN | noun\n",
            "corporation  | NOUN | noun\n",
            "headquartered  | VERB | verb\n",
            "in  | ADP | adposition\n",
            "Redmond  | PROPN | proper noun\n",
            ",  | PUNCT | punctuation\n",
            "Washington  | PROPN | proper noun\n",
            ".  | PUNCT | punctuation\n",
            "Microsoft  | PROPN | proper noun\n",
            "'s  | PART | particle\n",
            "best  | ADV | adverb\n",
            "-  | PUNCT | punctuation\n",
            "known  | VERB | verb\n",
            "software  | NOUN | noun\n",
            "products  | NOUN | noun\n",
            "are  | AUX | auxiliary\n",
            "the  | DET | determiner\n",
            "Windows  | PROPN | proper noun\n",
            "line  | NOUN | noun\n",
            "of  | ADP | adposition\n",
            "operating  | NOUN | noun\n",
            "systems  | NOUN | noun\n",
            ",  | PUNCT | punctuation\n",
            "the  | DET | determiner\n",
            "Microsoft  | PROPN | proper noun\n",
            "Office  | PROPN | proper noun\n",
            "suite  | NOUN | noun\n",
            ",  | PUNCT | punctuation\n",
            "and  | CCONJ | coordinating conjunction\n",
            "the  | DET | determiner\n",
            "Internet  | NOUN | noun\n",
            "Explorer  | PROPN | proper noun\n",
            "and  | CCONJ | coordinating conjunction\n",
            "Edge  | PROPN | proper noun\n",
            "web  | NOUN | noun\n",
            "browsers  | NOUN | noun\n",
            ".  | PUNCT | punctuation\n",
            "Its  | PRON | pronoun\n",
            "flagship  | NOUN | noun\n",
            "hardware  | NOUN | noun\n",
            "products  | NOUN | noun\n",
            "are  | AUX | auxiliary\n",
            "the  | DET | determiner\n",
            "Xbox  | PROPN | proper noun\n",
            "video  | NOUN | noun\n",
            "game  | NOUN | noun\n",
            "consoles  | NOUN | noun\n",
            "and  | CCONJ | coordinating conjunction\n",
            "the  | DET | determiner\n",
            "Microsoft  | PROPN | proper noun\n",
            "Surface  | PROPN | proper noun\n",
            "lineup  | NOUN | noun\n",
            "of  | ADP | adposition\n",
            "touchscreen  | ADJ | adjective\n",
            "personal  | ADJ | adjective\n",
            "computers  | NOUN | noun\n",
            ".  | PUNCT | punctuation\n",
            "Microsoft  | PROPN | proper noun\n",
            "ranked  | VERB | verb\n",
            "No  | PROPN | proper noun\n",
            ".  | NOUN | noun\n",
            "14  | NUM | numeral\n",
            "in  | ADP | adposition\n",
            "the  | DET | determiner\n",
            "2022  | NUM | numeral\n",
            "Fortune  | PROPN | proper noun\n",
            "500  | NUM | numeral\n",
            "rankings  | NOUN | noun\n",
            "of  | ADP | adposition\n",
            "the  | DET | determiner\n",
            "largest  | ADJ | adjective\n",
            "United  | PROPN | proper noun\n",
            "States  | PROPN | proper noun\n",
            "corporations  | NOUN | noun\n",
            "by  | ADP | adposition\n",
            "total  | ADJ | adjective\n",
            "revenue;[2  | PROPN | proper noun\n",
            "]  | PUNCT | punctuation\n",
            "it  | PRON | pronoun\n",
            "was  | AUX | auxiliary\n",
            "the  | DET | determiner\n",
            "world  | NOUN | noun\n",
            "'s  | PART | particle\n",
            "largest  | ADJ | adjective\n",
            "software  | NOUN | noun\n",
            "maker  | NOUN | noun\n",
            "by  | ADP | adposition\n",
            "revenue  | NOUN | noun\n",
            "as  | ADP | adposition\n",
            "of  | ADP | adposition\n",
            "2022  | NUM | numeral\n",
            ".  | PUNCT | punctuation\n",
            "It  | PRON | pronoun\n",
            "is  | AUX | auxiliary\n",
            "considered  | VERB | verb\n",
            "as  | ADP | adposition\n",
            "one  | NUM | numeral\n",
            "of  | ADP | adposition\n",
            "the  | DET | determiner\n",
            "Big  | PROPN | proper noun\n",
            "Five  | NUM | numeral\n",
            "American  | ADJ | adjective\n",
            "information  | NOUN | noun\n",
            "technology  | NOUN | noun\n",
            "companies  | NOUN | noun\n",
            ",  | PUNCT | punctuation\n",
            "alongside  | ADP | adposition\n",
            "Alphabet  | PROPN | proper noun\n",
            "(  | PUNCT | punctuation\n",
            "parent  | NOUN | noun\n",
            "company  | NOUN | noun\n",
            "of  | ADP | adposition\n",
            "Google  | PROPN | proper noun\n",
            ")  | PUNCT | punctuation\n",
            ",  | PUNCT | punctuation\n",
            "Amazon  | PROPN | proper noun\n",
            ",  | PUNCT | punctuation\n",
            "Apple  | PROPN | proper noun\n",
            ",  | PUNCT | punctuation\n",
            "and  | CCONJ | coordinating conjunction\n",
            "Meta  | PROPN | proper noun\n",
            "(  | PUNCT | punctuation\n",
            "formerly  | ADV | adverb\n",
            "Facebook  | PROPN | proper noun\n",
            ")  | PUNCT | punctuation\n",
            ".  | PUNCT | punctuation\n"
          ]
        }
      ]
    },
    {
      "cell_type": "code",
      "source": [
        "filter_tokens = []\n",
        "for token in doc:\n",
        "  if token.pos_ not in [\"SPACE\",\"X\",\"PUNCT\"]:\n",
        "    filter_tokens.append(token)\n",
        "filter_tokens"
      ],
      "metadata": {
        "colab": {
          "base_uri": "https://localhost:8080/"
        },
        "id": "H8Tf20-O8wCz",
        "outputId": "67bb6af0-bc91-4fc6-9a32-9e082320d64c"
      },
      "execution_count": 16,
      "outputs": [
        {
          "output_type": "execute_result",
          "data": {
            "text/plain": [
              "[Microsoft,\n",
              " Corporation,\n",
              " is,\n",
              " an,\n",
              " American,\n",
              " multinational,\n",
              " technology,\n",
              " corporation,\n",
              " headquartered,\n",
              " in,\n",
              " Redmond,\n",
              " Washington,\n",
              " Microsoft,\n",
              " 's,\n",
              " best,\n",
              " known,\n",
              " software,\n",
              " products,\n",
              " are,\n",
              " the,\n",
              " Windows,\n",
              " line,\n",
              " of,\n",
              " operating,\n",
              " systems,\n",
              " the,\n",
              " Microsoft,\n",
              " Office,\n",
              " suite,\n",
              " and,\n",
              " the,\n",
              " Internet,\n",
              " Explorer,\n",
              " and,\n",
              " Edge,\n",
              " web,\n",
              " browsers,\n",
              " Its,\n",
              " flagship,\n",
              " hardware,\n",
              " products,\n",
              " are,\n",
              " the,\n",
              " Xbox,\n",
              " video,\n",
              " game,\n",
              " consoles,\n",
              " and,\n",
              " the,\n",
              " Microsoft,\n",
              " Surface,\n",
              " lineup,\n",
              " of,\n",
              " touchscreen,\n",
              " personal,\n",
              " computers,\n",
              " Microsoft,\n",
              " ranked,\n",
              " No,\n",
              " .,\n",
              " 14,\n",
              " in,\n",
              " the,\n",
              " 2022,\n",
              " Fortune,\n",
              " 500,\n",
              " rankings,\n",
              " of,\n",
              " the,\n",
              " largest,\n",
              " United,\n",
              " States,\n",
              " corporations,\n",
              " by,\n",
              " total,\n",
              " revenue;[2,\n",
              " it,\n",
              " was,\n",
              " the,\n",
              " world,\n",
              " 's,\n",
              " largest,\n",
              " software,\n",
              " maker,\n",
              " by,\n",
              " revenue,\n",
              " as,\n",
              " of,\n",
              " 2022,\n",
              " It,\n",
              " is,\n",
              " considered,\n",
              " as,\n",
              " one,\n",
              " of,\n",
              " the,\n",
              " Big,\n",
              " Five,\n",
              " American,\n",
              " information,\n",
              " technology,\n",
              " companies,\n",
              " alongside,\n",
              " Alphabet,\n",
              " parent,\n",
              " company,\n",
              " of,\n",
              " Google,\n",
              " Amazon,\n",
              " Apple,\n",
              " and,\n",
              " Meta,\n",
              " formerly,\n",
              " Facebook]"
            ]
          },
          "metadata": {},
          "execution_count": 16
        }
      ]
    },
    {
      "cell_type": "code",
      "source": [
        "count  = doc.count_by(spacy.attrs.POS)\n",
        "count"
      ],
      "metadata": {
        "colab": {
          "base_uri": "https://localhost:8080/"
        },
        "id": "TDosXG-19U52",
        "outputId": "aaca1da6-3059-4ffb-8688-5893c8d736d3"
      },
      "execution_count": 20,
      "outputs": [
        {
          "output_type": "execute_result",
          "data": {
            "text/plain": [
              "{96: 26,\n",
              " 87: 5,\n",
              " 90: 10,\n",
              " 84: 8,\n",
              " 92: 31,\n",
              " 100: 4,\n",
              " 85: 13,\n",
              " 97: 18,\n",
              " 94: 2,\n",
              " 86: 2,\n",
              " 89: 4,\n",
              " 95: 3,\n",
              " 93: 6}"
            ]
          },
          "metadata": {},
          "execution_count": 20
        }
      ]
    },
    {
      "cell_type": "code",
      "source": [
        "for k,v in count.items():\n",
        "  print(doc.vocab[k].text, \"|\",v)"
      ],
      "metadata": {
        "colab": {
          "base_uri": "https://localhost:8080/"
        },
        "id": "ytAPnR1l-MXx",
        "outputId": "2f3dccc7-59ed-485b-c50a-2657f7311cee"
      },
      "execution_count": 21,
      "outputs": [
        {
          "output_type": "stream",
          "name": "stdout",
          "text": [
            "PROPN | 26\n",
            "AUX | 5\n",
            "DET | 10\n",
            "ADJ | 8\n",
            "NOUN | 31\n",
            "VERB | 4\n",
            "ADP | 13\n",
            "PUNCT | 18\n",
            "PART | 2\n",
            "ADV | 2\n",
            "CCONJ | 4\n",
            "PRON | 3\n",
            "NUM | 6\n"
          ]
        }
      ]
    },
    {
      "cell_type": "code",
      "source": [],
      "metadata": {
        "id": "Q8cQ5n1z-1eM"
      },
      "execution_count": null,
      "outputs": []
    }
  ]
}